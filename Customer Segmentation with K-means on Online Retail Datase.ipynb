{
 "cells": [
  {
   "cell_type": "code",
   "execution_count": 1,
   "id": "10bcc309",
   "metadata": {},
   "outputs": [],
   "source": [
    "import pandas as pd\n",
    "import numpy as np\n",
    "from sklearn.preprocessing import StandardScaler\n",
    "from sklearn.decomposition import PCA\n",
    "from sklearn.cluster import KMeans\n",
    "from sklearn.metrics import silhouette_score\n",
    "import matplotlib.pyplot as plt\n",
    "import seaborn as sns"
   ]
  },
  {
   "cell_type": "code",
   "execution_count": null,
   "id": "f38d29f9",
   "metadata": {},
   "outputs": [],
   "source": []
  },
  {
   "cell_type": "code",
   "execution_count": 2,
   "id": "71e87c04",
   "metadata": {},
   "outputs": [],
   "source": [
    "def load_data(file_path):\n",
    "    \"\"\"Load the Online Retail Dataset.\"\"\"\n",
    "    return pd.read_excel(file_path)"
   ]
  },
  {
   "cell_type": "code",
   "execution_count": null,
   "id": "a1264021",
   "metadata": {},
   "outputs": [],
   "source": [
    "df = load_data('http://archive.ics.uci.edu/ml/machine-learning-databases/00352/Online%20Retail.xlsx')\n",
    "df.head()"
   ]
  },
  {
   "cell_type": "code",
   "execution_count": null,
   "id": "10a6ce6c",
   "metadata": {},
   "outputs": [],
   "source": [
    "print(f\"Shape: {df.shape}\")"
   ]
  },
  {
   "cell_type": "code",
   "execution_count": null,
   "id": "f5749778",
   "metadata": {},
   "outputs": [],
   "source": []
  },
  {
   "cell_type": "code",
   "execution_count": null,
   "id": "af01162a",
   "metadata": {},
   "outputs": [],
   "source": [
    "def preprocess_data(df):\n",
    "    \"\"\"Handle missing values, convert date, and remove cancelled orders.\"\"\"\n",
    "    df.dropna(inplace=True)\n",
    "    df['InvoiceDate'] = pd.to_datetime(df['InvoiceDate'])\n",
    "    return df[~df['InvoiceNo'].astype(str).str.contains('C')]\n",
    "\n",
    "\n",
    "df_cleaned = preprocess_data(df)\n",
    "df_cleaned.head()"
   ]
  },
  {
   "cell_type": "code",
   "execution_count": null,
   "id": "38eda5f5",
   "metadata": {},
   "outputs": [],
   "source": [
    "print(f\"Shape: {df_cleaned.shape}\")"
   ]
  },
  {
   "cell_type": "code",
   "execution_count": null,
   "id": "6f8b0acd",
   "metadata": {},
   "outputs": [],
   "source": []
  },
  {
   "cell_type": "code",
   "execution_count": null,
   "id": "d341a6c2",
   "metadata": {},
   "outputs": [],
   "source": [
    "def engineer_features(df):\n",
    "    \"\"\"Calculate RFM (Recency, Frequency, Monetary) features.\"\"\"\n",
    "    df['TotalAmount'] = df['Quantity'] * df['UnitPrice']\n",
    "    customer_features = df.groupby('CustomerID').agg({\n",
    "        'InvoiceDate': lambda x: (df['InvoiceDate'].max() - x.max()).days,\n",
    "        'InvoiceNo': 'count',\n",
    "        'TotalAmount': 'sum'\n",
    "    })\n",
    "    customer_features.columns = ['Recency', 'Frequency', 'Monetary']\n",
    "    return customer_features\n",
    "\n",
    "\n",
    "customer_features = engineer_features(df_cleaned)\n",
    "customer_features.head()"
   ]
  },
  {
   "cell_type": "code",
   "execution_count": null,
   "id": "d7f4d845",
   "metadata": {},
   "outputs": [],
   "source": [
    "print(f\"Shape: {customer_features.shape}\")"
   ]
  },
  {
   "cell_type": "code",
   "execution_count": null,
   "id": "f0f73cde",
   "metadata": {},
   "outputs": [],
   "source": []
  },
  {
   "cell_type": "code",
   "execution_count": null,
   "id": "3bbb0e0d",
   "metadata": {},
   "outputs": [],
   "source": [
    "def apply_pca(data, n_components=2):\n",
    "    \"\"\"Apply PCA for dimensionality reduction.\"\"\"\n",
    "    scaler = StandardScaler()\n",
    "    data_scaled = scaler.fit_transform(data)\n",
    "    pca = PCA(n_components=n_components)\n",
    "    pca_result = pca.fit_transform(data_scaled)\n",
    "    return pca_result, pca\n",
    "\n",
    "\n",
    "pca_result, pca = apply_pca(customer_features)\n",
    "print(f\"PCA shape: {pca_result.shape}\")\n",
    "print(f\"Explained variance ratio: {pca.explained_variance_ratio_}\")"
   ]
  },
  {
   "cell_type": "code",
   "execution_count": null,
   "id": "9de6998d",
   "metadata": {},
   "outputs": [],
   "source": []
  },
  {
   "cell_type": "code",
   "execution_count": null,
   "id": "dba590ba",
   "metadata": {},
   "outputs": [],
   "source": [
    "def find_optimal_clusters(data, max_k):\n",
    "    \"\"\"Use the elbow method to find the optimal number of clusters.\"\"\"\n",
    "    wcss = [KMeans(n_clusters=k, init='k-means++', random_state=42).fit(data).inertia_\n",
    "            for k in range(1, max_k+1)]\n",
    "    \n",
    "    plt.figure(figsize=(10, 6))\n",
    "    plt.plot(range(1, max_k+1), wcss, marker='o')\n",
    "    plt.title('Elbow Method for Optimal k')\n",
    "    plt.xlabel('Number of clusters')\n",
    "    plt.ylabel('WCSS')\n",
    "    plt.show()\n",
    "\n",
    "\n",
    "find_optimal_clusters(pca_result, 10)"
   ]
  },
  {
   "cell_type": "code",
   "execution_count": null,
   "id": "aa12980b",
   "metadata": {},
   "outputs": [],
   "source": []
  },
  {
   "cell_type": "code",
   "execution_count": null,
   "id": "867f8cdb",
   "metadata": {},
   "outputs": [],
   "source": [
    "def perform_kmeans(data, n_clusters):\n",
    "    \"\"\"Perform K-means clustering.\"\"\"\n",
    "    kmeans = KMeans(n_clusters=n_clusters, init='k-means++', random_state=42, n_init=10)\n",
    "    return kmeans.fit_predict(data)"
   ]
  },
  {
   "cell_type": "code",
   "execution_count": null,
   "id": "dc7a2a06",
   "metadata": {},
   "outputs": [],
   "source": [
    "n_clusters = 4  # Assuming 4 clusters from elbow method\n",
    "cluster_labels = perform_kmeans(pca_result, n_clusters)\n",
    "print(f\"Number of clusters: {n_clusters}\")\n",
    "print(f\"Cluster labels shape: {cluster_labels.shape}\")"
   ]
  },
  {
   "cell_type": "code",
   "execution_count": null,
   "id": "c042c20a",
   "metadata": {},
   "outputs": [],
   "source": []
  },
  {
   "cell_type": "code",
   "execution_count": null,
   "id": "e6e3956f",
   "metadata": {},
   "outputs": [],
   "source": [
    "def profile_clusters(data, labels):\n",
    "    \"\"\"Profile the clusters based on mean values of features.\"\"\"\n",
    "    data['Cluster'] = labels\n",
    "    return data.groupby('Cluster').mean()\n",
    "\n",
    "\n",
    "cluster_profile = profile_clusters(customer_features, cluster_labels)\n",
    "print(cluster_profile)"
   ]
  },
  {
   "cell_type": "code",
   "execution_count": null,
   "id": "a61a0486",
   "metadata": {},
   "outputs": [],
   "source": []
  },
  {
   "cell_type": "code",
   "execution_count": null,
   "id": "46ff3cf4",
   "metadata": {},
   "outputs": [],
   "source": [
    "def visualize_clusters(data, labels):\n",
    "    \"\"\"Visualize the clusters using a scatter plot.\"\"\"\n",
    "    plt.figure(figsize=(12, 8))\n",
    "    scatter = plt.scatter(data[:, 0], data[:, 1], c=labels, cmap='viridis', alpha=0.7)\n",
    "    plt.title('Customer Segments')\n",
    "    plt.xlabel('PCA 1')\n",
    "    plt.ylabel('PCA 2')\n",
    "    plt.colorbar(scatter)\n",
    "    plt.show()\n",
    "\n",
    "\n",
    "visualize_clusters(pca_result, cluster_labels)"
   ]
  },
  {
   "cell_type": "code",
   "execution_count": null,
   "id": "56f293f7",
   "metadata": {},
   "outputs": [],
   "source": []
  },
  {
   "cell_type": "code",
   "execution_count": null,
   "id": "72d78687",
   "metadata": {},
   "outputs": [],
   "source": []
  },
  {
   "cell_type": "code",
   "execution_count": null,
   "id": "8b3cda56",
   "metadata": {},
   "outputs": [],
   "source": [
    "def evaluate_clustering(data, labels):\n",
    "    \"\"\"Evaluate the clustering using silhouette score.\"\"\"\n",
    "    silhouette_avg = silhouette_score(data, labels)\n",
    "    print(f\"The average silhouette score is: {silhouette_avg:.2f}\")\n",
    "    return silhouette_avg\n",
    "\n",
    "\n",
    "silhouette_avg = evaluate_clustering(pca_result, cluster_labels)"
   ]
  },
  {
   "cell_type": "code",
   "execution_count": null,
   "id": "1876cfb9",
   "metadata": {},
   "outputs": [],
   "source": []
  },
  {
   "cell_type": "code",
   "execution_count": null,
   "id": "13868d8b",
   "metadata": {},
   "outputs": [],
   "source": [
    "def personalize_recommendations(cluster_profile):\n",
    "    \"\"\"Generate personalized recommendations based on cluster profiles.\"\"\"\n",
    "    recommendations = {}\n",
    "    overall_mean = cluster_profile.mean()\n",
    "    overall_std = cluster_profile.std()\n",
    "    \n",
    "    print(\"\\nDetailed Cluster Analysis:\")\n",
    "    print(f\"Overall Mean: {overall_mean}\")\n",
    "    print(f\"Overall Std Dev: {overall_std}\")\n",
    "    \n",
    "    for cluster, profile in cluster_profile.iterrows():\n",
    "        print(f\"\\nCluster {cluster}:\")\n",
    "        print(f\"Profile: {profile}\")\n",
    "        print(f\"Monetary vs Mean: {profile['Monetary']} vs {overall_mean['Monetary']}\")\n",
    "        print(f\"Frequency vs Mean: {profile['Frequency']} vs {overall_mean['Frequency']}\")\n",
    "        print(f\"Recency vs Mean: {profile['Recency']} vs {overall_mean['Recency']}\")\n",
    "        \n",
    "        if (profile['Monetary'] > overall_mean['Monetary'] + overall_std['Monetary'] and \n",
    "            profile['Frequency'] > overall_mean['Frequency'] + overall_std['Frequency']):\n",
    "            recommendations[cluster] = \"High-value, frequent customers. Focus on retention, premium products, and exclusive offers.\"\n",
    "        elif (profile['Monetary'] > overall_mean['Monetary'] + overall_std['Monetary'] and \n",
    "              profile['Recency'] < overall_mean['Recency']):\n",
    "            recommendations[cluster] = \"High-value, recent customers. Encourage continued engagement with personalized recommendations.\"\n",
    "        elif (profile['Frequency'] > overall_mean['Frequency'] and \n",
    "              profile['Recency'] < overall_mean['Recency']):\n",
    "            recommendations[cluster] = \"Frequent, recent buyers. Offer loyalty programs and cross-sell opportunities.\"\n",
    "        elif profile['Recency'] > overall_mean['Recency'] + overall_std['Recency']:\n",
    "            recommendations[cluster] = \"Less recent customers. Re-engagement campaign needed with special comeback offers.\"\n",
    "        else:\n",
    "            recommendations[cluster] = \"Average customers. Enhance engagement with targeted promotions and product recommendations.\"\n",
    "        \n",
    "        print(f\"Recommendation: {recommendations[cluster]}\")\n",
    "    \n",
    "    return recommendations\n",
    "\n",
    "\n",
    "print(\"\\n--- Testing personalize_recommendations ---\")\n",
    "recommendations = personalize_recommendations(cluster_profile)"
   ]
  },
  {
   "cell_type": "code",
   "execution_count": null,
   "id": "215cf285",
   "metadata": {},
   "outputs": [],
   "source": []
  },
  {
   "cell_type": "code",
   "execution_count": null,
   "id": "e2174fe9",
   "metadata": {},
   "outputs": [],
   "source": []
  },
  {
   "cell_type": "code",
   "execution_count": null,
   "id": "47e5db77",
   "metadata": {},
   "outputs": [],
   "source": []
  }
 ],
 "metadata": {
  "kernelspec": {
   "display_name": "Python 3 (ipykernel)",
   "language": "python",
   "name": "python3"
  },
  "language_info": {
   "codemirror_mode": {
    "name": "ipython",
    "version": 3
   },
   "file_extension": ".py",
   "mimetype": "text/x-python",
   "name": "python",
   "nbconvert_exporter": "python",
   "pygments_lexer": "ipython3",
   "version": "3.11.8"
  }
 },
 "nbformat": 4,
 "nbformat_minor": 5
}
